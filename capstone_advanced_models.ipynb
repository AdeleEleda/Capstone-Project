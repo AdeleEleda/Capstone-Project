{
 "cells": [
  {
   "cell_type": "markdown",
   "id": "e79c3520",
   "metadata": {},
   "source": [
    "### Advanced Models \n",
    "This notebook contains several attempts at creating Simple Neural Networks, Recurrent Neural Networks, and Long Short Term Memory (LSTM) networks for my Forecasting Energy Demand Capstone. "
   ]
  },
  {
   "cell_type": "code",
   "execution_count": 3,
   "id": "5b86aeb3",
   "metadata": {},
   "outputs": [],
   "source": [
    "#Holy Trinity\n",
    "import numpy as np\n",
    "import pandas as pd\n",
    "import matplotlib.pyplot as plt\n",
    "\n",
    "#Graphing\n",
    "import plotly.express as px\n",
    "from plotly.subplots import make_subplots\n",
    "import plotly.graph_objs as go\n",
    "import seaborn as sns\n",
    "\n",
    "#Neural Network\n",
    "#import tensorflow as tf\n",
    "#from tensorflow import keras #import only what I need (?), this is alot I think\n",
    "from tensorflow.keras import layers\n",
    "from tensorflow.keras.models import Sequential\n",
    "from tensorflow.keras.layers import LSTM, Dropout, Dense\n",
    "from sklearn.preprocessing import StandardScaler\n",
    "from sklearn.neural_network import MLPRegressor\n",
    "from sklearn.metrics import r2_score"
   ]
  },
  {
   "cell_type": "code",
   "execution_count": 4,
   "id": "dc842669",
   "metadata": {},
   "outputs": [
    {
     "data": {
      "text/html": [
       "<div>\n",
       "<style scoped>\n",
       "    .dataframe tbody tr th:only-of-type {\n",
       "        vertical-align: middle;\n",
       "    }\n",
       "\n",
       "    .dataframe tbody tr th {\n",
       "        vertical-align: top;\n",
       "    }\n",
       "\n",
       "    .dataframe thead th {\n",
       "        text-align: right;\n",
       "    }\n",
       "</style>\n",
       "<table border=\"1\" class=\"dataframe\">\n",
       "  <thead>\n",
       "    <tr style=\"text-align: right;\">\n",
       "      <th></th>\n",
       "      <th>month</th>\n",
       "      <th>is_summer</th>\n",
       "      <th>day_of_week</th>\n",
       "      <th>is_weekday</th>\n",
       "      <th>hour</th>\n",
       "      <th>coast</th>\n",
       "      <th>east</th>\n",
       "      <th>far_west</th>\n",
       "      <th>north</th>\n",
       "      <th>north_c</th>\n",
       "      <th>southern</th>\n",
       "      <th>south_c</th>\n",
       "      <th>west</th>\n",
       "      <th>ercot</th>\n",
       "    </tr>\n",
       "  </thead>\n",
       "  <tbody>\n",
       "    <tr>\n",
       "      <th>2008-01-01 01:00:00</th>\n",
       "      <td>1</td>\n",
       "      <td>0</td>\n",
       "      <td>1</td>\n",
       "      <td>1</td>\n",
       "      <td>1</td>\n",
       "      <td>7582.426275</td>\n",
       "      <td>1137.197278</td>\n",
       "      <td>1289.741591</td>\n",
       "      <td>1120.591245</td>\n",
       "      <td>10782.48780</td>\n",
       "      <td>1894.920943</td>\n",
       "      <td>4857.044340</td>\n",
       "      <td>932.251506</td>\n",
       "      <td>29596.66098</td>\n",
       "    </tr>\n",
       "    <tr>\n",
       "      <th>2008-01-01 02:00:00</th>\n",
       "      <td>1</td>\n",
       "      <td>0</td>\n",
       "      <td>1</td>\n",
       "      <td>1</td>\n",
       "      <td>2</td>\n",
       "      <td>7483.387277</td>\n",
       "      <td>1129.312429</td>\n",
       "      <td>1320.549720</td>\n",
       "      <td>1130.163920</td>\n",
       "      <td>10873.00119</td>\n",
       "      <td>1826.089194</td>\n",
       "      <td>4867.512567</td>\n",
       "      <td>939.958255</td>\n",
       "      <td>29569.97455</td>\n",
       "    </tr>\n",
       "    <tr>\n",
       "      <th>2008-01-01 03:00:00</th>\n",
       "      <td>1</td>\n",
       "      <td>0</td>\n",
       "      <td>1</td>\n",
       "      <td>1</td>\n",
       "      <td>3</td>\n",
       "      <td>7381.744778</td>\n",
       "      <td>1155.484647</td>\n",
       "      <td>1328.442079</td>\n",
       "      <td>1129.355056</td>\n",
       "      <td>10952.63748</td>\n",
       "      <td>1832.883827</td>\n",
       "      <td>4849.639885</td>\n",
       "      <td>951.322118</td>\n",
       "      <td>29581.50987</td>\n",
       "    </tr>\n",
       "    <tr>\n",
       "      <th>2008-01-01 04:00:00</th>\n",
       "      <td>1</td>\n",
       "      <td>0</td>\n",
       "      <td>1</td>\n",
       "      <td>1</td>\n",
       "      <td>4</td>\n",
       "      <td>7452.871868</td>\n",
       "      <td>1209.918355</td>\n",
       "      <td>1344.322369</td>\n",
       "      <td>1148.919804</td>\n",
       "      <td>11104.17876</td>\n",
       "      <td>1819.248340</td>\n",
       "      <td>4858.047321</td>\n",
       "      <td>967.450488</td>\n",
       "      <td>29904.95730</td>\n",
       "    </tr>\n",
       "    <tr>\n",
       "      <th>2008-01-01 05:00:00</th>\n",
       "      <td>1</td>\n",
       "      <td>0</td>\n",
       "      <td>1</td>\n",
       "      <td>1</td>\n",
       "      <td>5</td>\n",
       "      <td>7530.354017</td>\n",
       "      <td>1265.055389</td>\n",
       "      <td>1355.020035</td>\n",
       "      <td>1171.267839</td>\n",
       "      <td>11369.93504</td>\n",
       "      <td>1834.777369</td>\n",
       "      <td>4962.345559</td>\n",
       "      <td>996.055206</td>\n",
       "      <td>30484.81045</td>\n",
       "    </tr>\n",
       "  </tbody>\n",
       "</table>\n",
       "</div>"
      ],
      "text/plain": [
       "                     month  is_summer  day_of_week  is_weekday  hour  \\\n",
       "2008-01-01 01:00:00      1          0            1           1     1   \n",
       "2008-01-01 02:00:00      1          0            1           1     2   \n",
       "2008-01-01 03:00:00      1          0            1           1     3   \n",
       "2008-01-01 04:00:00      1          0            1           1     4   \n",
       "2008-01-01 05:00:00      1          0            1           1     5   \n",
       "\n",
       "                           coast         east     far_west        north  \\\n",
       "2008-01-01 01:00:00  7582.426275  1137.197278  1289.741591  1120.591245   \n",
       "2008-01-01 02:00:00  7483.387277  1129.312429  1320.549720  1130.163920   \n",
       "2008-01-01 03:00:00  7381.744778  1155.484647  1328.442079  1129.355056   \n",
       "2008-01-01 04:00:00  7452.871868  1209.918355  1344.322369  1148.919804   \n",
       "2008-01-01 05:00:00  7530.354017  1265.055389  1355.020035  1171.267839   \n",
       "\n",
       "                         north_c     southern      south_c        west  \\\n",
       "2008-01-01 01:00:00  10782.48780  1894.920943  4857.044340  932.251506   \n",
       "2008-01-01 02:00:00  10873.00119  1826.089194  4867.512567  939.958255   \n",
       "2008-01-01 03:00:00  10952.63748  1832.883827  4849.639885  951.322118   \n",
       "2008-01-01 04:00:00  11104.17876  1819.248340  4858.047321  967.450488   \n",
       "2008-01-01 05:00:00  11369.93504  1834.777369  4962.345559  996.055206   \n",
       "\n",
       "                           ercot  \n",
       "2008-01-01 01:00:00  29596.66098  \n",
       "2008-01-01 02:00:00  29569.97455  \n",
       "2008-01-01 03:00:00  29581.50987  \n",
       "2008-01-01 04:00:00  29904.95730  \n",
       "2008-01-01 05:00:00  30484.81045  "
      ]
     },
     "execution_count": 4,
     "metadata": {},
     "output_type": "execute_result"
    }
   ],
   "source": [
    "#Read in csv and store as a dataframe and take a look\n",
    "ercot_df = pd.read_csv('capstone_data/ercot_2008_2019.csv')\n",
    "\n",
    "#Convert 'hour_end' to datetime\n",
    "ercot_df['hour_end'] = pd.to_datetime(ercot_df['hour_end'])\n",
    "\n",
    "#Drop if exists\n",
    "#ercot_df.drop(['month', 'is_summer', 'day_of_week', 'is_weekday', 'hour'], axis = 1, inplace = True);\n",
    "\n",
    "#Insert 'month' identifier column\n",
    "ercot_df.insert(1, 'month', ercot_df['hour_end'].dt.month)\n",
    "\n",
    "#Insert `is_summer` identifier column\n",
    "ercot_df.insert(2, 'is_summer', ercot_df['month'].apply(lambda x: 1 if x in [6, 7, 8] else 0))\n",
    "\n",
    "#Insert 'day_of_week' indentifier column\n",
    "#NOTE: Monday = 0, Sunday = 6\n",
    "ercot_df.insert(3, 'day_of_week', ercot_df['hour_end'].dt.dayofweek)\n",
    "\n",
    "#Insert `is_weekday` identifier column, weekend days are 5, 6\n",
    "ercot_df.insert(4, 'is_weekday', np.where(ercot_df[\"day_of_week\"] == (5 or 6), 0, 1))\n",
    "\n",
    "#Insert 'hour' indentifier column\n",
    "ercot_df.insert(5, 'hour', ercot_df['hour_end'].dt.hour)\n",
    "\n",
    "#Make a df where the date is the index\n",
    "ercot_time_df = ercot_df.set_index(\"hour_end\")\n",
    "ercot_time_df.index.name = None\n",
    "ercot_time_df.head()"
   ]
  },
  {
   "cell_type": "code",
   "execution_count": 27,
   "id": "82c2e5cb",
   "metadata": {},
   "outputs": [],
   "source": [
    "#Let's make an ercot-column-only monthly df:\n",
    "#ercot_time_df_monthly_ercot = ercot_time_df['ercot'].resample('MS').sum()"
   ]
  },
  {
   "cell_type": "code",
   "execution_count": 28,
   "id": "41b6ecc5",
   "metadata": {},
   "outputs": [],
   "source": [
    "#Set up train and test sets\n",
    "#train, test = np.split(ercot_time_df_monthly_ercot, [int(.80 *len(ercot_time_df_monthly_ercot))])"
   ]
  },
  {
   "cell_type": "markdown",
   "id": "6c11c9ed",
   "metadata": {},
   "source": [
    "---"
   ]
  },
  {
   "cell_type": "markdown",
   "id": "ce947a90",
   "metadata": {},
   "source": [
    "### LSTM1 Model\n",
    "[Reference1](https://towardsdatascience.com/arima-vs-lstm-forecasting-electricity-consumption-3215b086da77)\\\n",
    "[Reference2](https://blog.paperspace.com/time-series-forecasting-regression-and-lstm/)\\\n",
    "[Keras Sequential Model](https://keras.io/guides/sequential_model/)\\\n",
    "[LTSM Layer](https://keras.io/api/layers/recurrent_layers/lstm/)\\\n",
    "Here is the first attempt at an LSTM Model. "
   ]
  },
  {
   "cell_type": "code",
   "execution_count": 59,
   "id": "26d30bc3",
   "metadata": {},
   "outputs": [
    {
     "data": {
      "text/html": [
       "<div>\n",
       "<style scoped>\n",
       "    .dataframe tbody tr th:only-of-type {\n",
       "        vertical-align: middle;\n",
       "    }\n",
       "\n",
       "    .dataframe tbody tr th {\n",
       "        vertical-align: top;\n",
       "    }\n",
       "\n",
       "    .dataframe thead th {\n",
       "        text-align: right;\n",
       "    }\n",
       "</style>\n",
       "<table border=\"1\" class=\"dataframe\">\n",
       "  <thead>\n",
       "    <tr style=\"text-align: right;\">\n",
       "      <th></th>\n",
       "      <th>ercot</th>\n",
       "    </tr>\n",
       "  </thead>\n",
       "  <tbody>\n",
       "    <tr>\n",
       "      <th>2008-01-01 01:00:00</th>\n",
       "      <td>29596.66098</td>\n",
       "    </tr>\n",
       "    <tr>\n",
       "      <th>2008-01-01 02:00:00</th>\n",
       "      <td>29569.97455</td>\n",
       "    </tr>\n",
       "    <tr>\n",
       "      <th>2008-01-01 03:00:00</th>\n",
       "      <td>29581.50987</td>\n",
       "    </tr>\n",
       "    <tr>\n",
       "      <th>2008-01-01 04:00:00</th>\n",
       "      <td>29904.95730</td>\n",
       "    </tr>\n",
       "    <tr>\n",
       "      <th>2008-01-01 05:00:00</th>\n",
       "      <td>30484.81045</td>\n",
       "    </tr>\n",
       "  </tbody>\n",
       "</table>\n",
       "</div>"
      ],
      "text/plain": [
       "                           ercot\n",
       "2008-01-01 01:00:00  29596.66098\n",
       "2008-01-01 02:00:00  29569.97455\n",
       "2008-01-01 03:00:00  29581.50987\n",
       "2008-01-01 04:00:00  29904.95730\n",
       "2008-01-01 05:00:00  30484.81045"
      ]
     },
     "execution_count": 59,
     "metadata": {},
     "output_type": "execute_result"
    }
   ],
   "source": [
    "mini_df = pd.DataFrame(ercot_time_df['ercot'], columns = ['ercot'])\n",
    "mini_df.head()"
   ]
  },
  {
   "cell_type": "code",
   "execution_count": 60,
   "id": "feade869",
   "metadata": {
    "scrolled": false
   },
   "outputs": [],
   "source": [
    "###############################################################################\n",
    "#Uncomment this out if you want to scale BEFORE splitting for train and test sets\n",
    "###############################################################################\n",
    "\n",
    "#Apply scaler to normalize data\n",
    "from sklearn.preprocessing import MinMaxScaler\n",
    "\n",
    "#Instantiate\n",
    "scaler = MinMaxScaler()\n",
    "\n",
    "#Fit and transform\n",
    "mini_df['ercot'] = scaler.fit_transform(mini_df.values.reshape(-1,1)) "
   ]
  },
  {
   "cell_type": "code",
   "execution_count": 61,
   "id": "7cd7b026",
   "metadata": {
    "scrolled": true
   },
   "outputs": [
    {
     "data": {
      "text/html": [
       "<div>\n",
       "<style scoped>\n",
       "    .dataframe tbody tr th:only-of-type {\n",
       "        vertical-align: middle;\n",
       "    }\n",
       "\n",
       "    .dataframe tbody tr th {\n",
       "        vertical-align: top;\n",
       "    }\n",
       "\n",
       "    .dataframe thead th {\n",
       "        text-align: right;\n",
       "    }\n",
       "</style>\n",
       "<table border=\"1\" class=\"dataframe\">\n",
       "  <thead>\n",
       "    <tr style=\"text-align: right;\">\n",
       "      <th></th>\n",
       "      <th>ercot</th>\n",
       "    </tr>\n",
       "  </thead>\n",
       "  <tbody>\n",
       "    <tr>\n",
       "      <th>2008-01-01 01:00:00</th>\n",
       "      <td>0.180475</td>\n",
       "    </tr>\n",
       "    <tr>\n",
       "      <th>2008-01-01 02:00:00</th>\n",
       "      <td>0.179990</td>\n",
       "    </tr>\n",
       "    <tr>\n",
       "      <th>2008-01-01 03:00:00</th>\n",
       "      <td>0.180200</td>\n",
       "    </tr>\n",
       "    <tr>\n",
       "      <th>2008-01-01 04:00:00</th>\n",
       "      <td>0.186081</td>\n",
       "    </tr>\n",
       "    <tr>\n",
       "      <th>2008-01-01 05:00:00</th>\n",
       "      <td>0.196625</td>\n",
       "    </tr>\n",
       "  </tbody>\n",
       "</table>\n",
       "</div>"
      ],
      "text/plain": [
       "                        ercot\n",
       "2008-01-01 01:00:00  0.180475\n",
       "2008-01-01 02:00:00  0.179990\n",
       "2008-01-01 03:00:00  0.180200\n",
       "2008-01-01 04:00:00  0.186081\n",
       "2008-01-01 05:00:00  0.196625"
      ]
     },
     "execution_count": 61,
     "metadata": {},
     "output_type": "execute_result"
    }
   ],
   "source": [
    "#Check to see that it's been scaled\n",
    "mini_df.head()"
   ]
  },
  {
   "cell_type": "markdown",
   "id": "d86faf83",
   "metadata": {},
   "source": [
    "Now that the data is scaled, a lookback period needs to be implemented, i.e. how many prior periods we wish for the LSTM model to take into account when forecasting at time t. First we'll bring in a function that takes in data and sequence length and then returns a train/test split."
   ]
  },
  {
   "cell_type": "code",
   "execution_count": 62,
   "id": "8c229d83",
   "metadata": {},
   "outputs": [],
   "source": [
    "#Make def that takes in data and sequence length and then returns a train/test split\n",
    "def load_data(stock, seq_len):\n",
    "    X_train = []\n",
    "    y_train = []\n",
    "    for i in range(seq_len, len(stock)):\n",
    "        X_train.append(stock.iloc[i - seq_len : i, 0])\n",
    "        y_train.append(stock.iloc[i, 0])\n",
    "    \n",
    "    #1 last 6189 days are going to be used in test\n",
    "    X_test = X_train[84152:]    \n",
    "    y_test = y_train[84152:]\n",
    "    \n",
    "    #2 first 110000 days are going to be used in training\n",
    "    X_train = X_train[:84152]           \n",
    "    y_train = y_train[:84152]\n",
    "    \n",
    "    #3 convert to numpy array\n",
    "    X_train = np.array(X_train)\n",
    "    y_train = np.array(y_train)\n",
    "    \n",
    "    X_test = np.array(X_test)\n",
    "    y_test = np.array(y_test)\n",
    "    \n",
    "    return [X_train, y_train, X_test, y_test]"
   ]
  },
  {
   "cell_type": "markdown",
   "id": "27338afb",
   "metadata": {},
   "source": [
    "Let's create train and test sets using the new function:"
   ]
  },
  {
   "cell_type": "code",
   "execution_count": 63,
   "id": "728db9f4",
   "metadata": {},
   "outputs": [
    {
     "name": "stdout",
     "output_type": "stream",
     "text": [
      "X_train.shape =  (84152, 12)\n",
      "y_train.shape =  (84152,)\n",
      "X_test.shape =  (21027, 12)\n",
      "y_test.shape =  (21027,)\n"
     ]
    }
   ],
   "source": [
    "%%time\n",
    "#Create train, test data\n",
    "seq_len = 12 #In the example the sequence length is 20...why? How to chose sequence length? \n",
    "X_train, y_train, X_test, y_test = load_data(mini_df, seq_len)\n",
    "\n",
    "print('X_train.shape = ', X_train.shape)\n",
    "print('y_train.shape = ', y_train.shape)\n",
    "print('X_test.shape = ', X_test.shape)\n",
    "print('y_test.shape = ', y_test.shape)"
   ]
  },
  {
   "cell_type": "code",
   "execution_count": 64,
   "id": "d0b5acb1",
   "metadata": {},
   "outputs": [
    {
     "data": {
      "text/plain": [
       "array([0.55875061, 0.50094953, 0.4357931 , ..., 0.37229394, 0.35747522,\n",
       "       0.34014168])"
      ]
     },
     "execution_count": 64,
     "metadata": {},
     "output_type": "execute_result"
    }
   ],
   "source": [
    "#Check to see that data is still scaled\n",
    "y_test"
   ]
  },
  {
   "cell_type": "code",
   "execution_count": 65,
   "id": "68f986b0",
   "metadata": {},
   "outputs": [
    {
     "data": {
      "text/plain": [
       "array([0.22321234, 0.20414762, 0.189571  , ..., 0.6321354 , 0.59947327,\n",
       "       0.58425959])"
      ]
     },
     "execution_count": 65,
     "metadata": {},
     "output_type": "execute_result"
    }
   ],
   "source": [
    "y_train"
   ]
  },
  {
   "cell_type": "code",
   "execution_count": 66,
   "id": "9321c205",
   "metadata": {},
   "outputs": [
    {
     "data": {
      "text/plain": [
       "array([[0.18047506, 0.1799898 , 0.18019956, ..., 0.25511071, 0.25178576,\n",
       "        0.24166914],\n",
       "       [0.1799898 , 0.18019956, 0.18608107, ..., 0.25178576, 0.24166914,\n",
       "        0.22321234],\n",
       "       [0.18019956, 0.18608107, 0.19662501, ..., 0.24166914, 0.22321234,\n",
       "        0.20414762],\n",
       "       ...,\n",
       "       [0.42880397, 0.43295588, 0.45497793, ..., 0.63769419, 0.65236508,\n",
       "        0.65159572],\n",
       "       [0.43295588, 0.45497793, 0.48811594, ..., 0.65236508, 0.65159572,\n",
       "        0.6321354 ],\n",
       "       [0.45497793, 0.48811594, 0.52164981, ..., 0.65159572, 0.6321354 ,\n",
       "        0.59947327]])"
      ]
     },
     "execution_count": 66,
     "metadata": {},
     "output_type": "execute_result"
    }
   ],
   "source": [
    "X_train"
   ]
  },
  {
   "cell_type": "code",
   "execution_count": 67,
   "id": "35c5d384",
   "metadata": {},
   "outputs": [
    {
     "data": {
      "text/plain": [
       "array([[0.48811594, 0.52164981, 0.55299998, ..., 0.6321354 , 0.59947327,\n",
       "        0.58425959],\n",
       "       [0.52164981, 0.55299998, 0.57502222, ..., 0.59947327, 0.58425959,\n",
       "        0.55875061],\n",
       "       [0.55299998, 0.57502222, 0.59337569, ..., 0.58425959, 0.55875061,\n",
       "        0.50094953],\n",
       "       ...,\n",
       "       [0.4945101 , 0.46350942, 0.42848321, ..., 0.37358481, 0.40261436,\n",
       "        0.38928163],\n",
       "       [0.46350942, 0.42848321, 0.39498625, ..., 0.40261436, 0.38928163,\n",
       "        0.37229394],\n",
       "       [0.42848321, 0.39498625, 0.36480494, ..., 0.38928163, 0.37229394,\n",
       "        0.35747522]])"
      ]
     },
     "execution_count": 67,
     "metadata": {},
     "output_type": "execute_result"
    }
   ],
   "source": [
    "X_test"
   ]
  },
  {
   "cell_type": "markdown",
   "id": "462d7e24",
   "metadata": {},
   "source": [
    "It all appears to be scaled correctly. "
   ]
  },
  {
   "cell_type": "code",
   "execution_count": 5,
   "id": "f7b241d9",
   "metadata": {},
   "outputs": [
    {
     "ename": "NameError",
     "evalue": "name 'X_train' is not defined",
     "output_type": "error",
     "traceback": [
      "\u001b[1;31m---------------------------------------------------------------------------\u001b[0m",
      "\u001b[1;31mNameError\u001b[0m                                 Traceback (most recent call last)",
      "\u001b[1;32m~\\AppData\\Local\\Temp/ipykernel_17152/4057560664.py\u001b[0m in \u001b[0;36m<module>\u001b[1;34m\u001b[0m\n\u001b[0;32m      1\u001b[0m \u001b[1;31m#Reshape data to input into RNN models\u001b[0m\u001b[1;33m\u001b[0m\u001b[1;33m\u001b[0m\u001b[1;33m\u001b[0m\u001b[0m\n\u001b[1;32m----> 2\u001b[1;33m \u001b[0mX_train\u001b[0m \u001b[1;33m=\u001b[0m \u001b[0mnp\u001b[0m\u001b[1;33m.\u001b[0m\u001b[0mreshape\u001b[0m\u001b[1;33m(\u001b[0m\u001b[0mX_train\u001b[0m\u001b[1;33m,\u001b[0m \u001b[1;33m(\u001b[0m\u001b[1;36m84152\u001b[0m\u001b[1;33m,\u001b[0m \u001b[0mseq_len\u001b[0m\u001b[1;33m,\u001b[0m \u001b[1;36m1\u001b[0m\u001b[1;33m)\u001b[0m\u001b[1;33m)\u001b[0m \u001b[1;31m#Instead of 84152 could it be int(.8*(len(mini_df)))?\u001b[0m\u001b[1;33m\u001b[0m\u001b[1;33m\u001b[0m\u001b[0m\n\u001b[0m\u001b[0;32m      3\u001b[0m \u001b[0mX_test\u001b[0m \u001b[1;33m=\u001b[0m \u001b[0mnp\u001b[0m\u001b[1;33m.\u001b[0m\u001b[0mreshape\u001b[0m\u001b[1;33m(\u001b[0m\u001b[0mX_test\u001b[0m\u001b[1;33m,\u001b[0m \u001b[1;33m(\u001b[0m\u001b[0mX_test\u001b[0m\u001b[1;33m.\u001b[0m\u001b[0mshape\u001b[0m\u001b[1;33m[\u001b[0m\u001b[1;36m0\u001b[0m\u001b[1;33m]\u001b[0m\u001b[1;33m,\u001b[0m \u001b[0mseq_len\u001b[0m\u001b[1;33m,\u001b[0m \u001b[1;36m1\u001b[0m\u001b[1;33m)\u001b[0m\u001b[1;33m)\u001b[0m\u001b[1;33m\u001b[0m\u001b[1;33m\u001b[0m\u001b[0m\n\u001b[0;32m      4\u001b[0m \u001b[1;33m\u001b[0m\u001b[0m\n\u001b[0;32m      5\u001b[0m \u001b[0mprint\u001b[0m\u001b[1;33m(\u001b[0m\u001b[1;34m'X_train.shape = '\u001b[0m\u001b[1;33m,\u001b[0m \u001b[0mX_train\u001b[0m\u001b[1;33m.\u001b[0m\u001b[0mshape\u001b[0m\u001b[1;33m)\u001b[0m\u001b[1;33m\u001b[0m\u001b[1;33m\u001b[0m\u001b[0m\n",
      "\u001b[1;31mNameError\u001b[0m: name 'X_train' is not defined"
     ]
    }
   ],
   "source": [
    "#Reshape data to input into RNN models\n",
    "X_train = np.reshape(X_train, (84152, seq_len, 1)) #Instead of 84152 could it be int(.8*(len(mini_df)))?\n",
    "X_test = np.reshape(X_test, (X_test.shape[0], seq_len, 1))\n",
    "    \n",
    "print('X_train.shape = ', X_train.shape)\n",
    "print('y_train.shape = ', y_train.shape)\n",
    "print('X_test.shape = ', X_test.shape)\n",
    "print('y_test.shape = ', y_test.shape)"
   ]
  },
  {
   "cell_type": "code",
   "execution_count": 71,
   "id": "a6ba3c76",
   "metadata": {
    "scrolled": true
   },
   "outputs": [
    {
     "name": "stdout",
     "output_type": "stream",
     "text": [
      "Epoch 1/5\n",
      "7013/7013 [==============================] - 15s 2ms/step - loss: 0.0028\n",
      "Epoch 2/5\n",
      "7013/7013 [==============================] - 15s 2ms/step - loss: 1.9855e-04\n",
      "Epoch 3/5\n",
      "7013/7013 [==============================] - 15s 2ms/step - loss: 1.8805e-04\n",
      "Epoch 4/5\n",
      "7013/7013 [==============================] - 15s 2ms/step - loss: 1.8479e-04\n",
      "Epoch 5/5\n",
      "7013/7013 [==============================] - 15s 2ms/step - loss: 1.7958e-04\n",
      "R^2 Score of LSTM model =  0.9952080939404987\n",
      "Wall time: 1min 16s\n"
     ]
    }
   ],
   "source": [
    "#Run LSTM Model \n",
    "\n",
    "%%time\n",
    "window_size = 12\n",
    "\n",
    "# Create new LSTM model\n",
    "LSTM_model = Sequential()\n",
    "\n",
    "#Declare hidden layers\n",
    "LSTM_model.add(Dense(1))\n",
    "LSTM_model.add(LSTM(4, input_shape = (1, window_size)))\n",
    "\n",
    "#Declare output layer\n",
    "LSTM_model.add(Dense(1))\n",
    "\n",
    "#Compile model\n",
    "LSTM_model.compile(optimizer = 'adam', loss = 'MSE')\n",
    "\n",
    "#Train model\n",
    "LSTM_model.fit(X_train, y_train, epochs = 5, batch_size = 12) #Epochs was originally 100 in example\n",
    "\n",
    "#Check r2 score for predicted values\n",
    "LSTM_predictions = LSTM_model.predict(X_test)\n",
    "\n",
    "LSTM_score = r2_score(y_test, LSTM_predictions)\n",
    "print(\"R^2 Score of LSTM model = \", LSTM_score)"
   ]
  },
  {
   "cell_type": "markdown",
   "id": "4e0f6a23",
   "metadata": {},
   "source": [
    "And R^2 of 99.5% is pretty great. Although I did not include any dropout layers so this is likely way overfit. "
   ]
  },
  {
   "cell_type": "code",
   "execution_count": 77,
   "id": "db6a8ca4",
   "metadata": {},
   "outputs": [
    {
     "data": {
      "image/png": "[encoded data removed]",
      "text/plain": [
       "<Figure size 1152x288 with 1 Axes>"
      ]
     },
     "metadata": {
      "needs_background": "light"
     },
     "output_type": "display_data"
    }
   ],
   "source": [
    "#Compare actual values vs predicted on graph\n",
    "#def plot_predictions(test, predicted, title):\n",
    "plt.figure(figsize = (16,4))\n",
    "plt.plot(y_test, color = 'blue', label = 'Actual Energy Demand')\n",
    "plt.plot(LSTM_predictions, alpha = 0.4, color = 'orange', label = 'Predicted Energy Demand')\n",
    "plt.title(\"Predictions made by LSTM model\")\n",
    "plt.xlabel('Time')\n",
    "plt.ylabel('Normalized Energy Demand scale')\n",
    "plt.legend()\n",
    "plt.show()\n",
    "    \n",
    "#plot_predictions(y_test, rnn_predictions, \"Predictions made by simple RNN model\")\n",
    "#Compare actual values vs predicted on graph\n",
    "\n",
    "#plot_predictions(y_test, LSTM_predictions, \"Predictions made by LSTM model\")"
   ]
  },
  {
   "cell_type": "markdown",
   "id": "56c06fc3",
   "metadata": {},
   "source": [
    "These predictions look really good. The model is fitting really well to the training data, though with more time I need to look into controlling the overfitting more. "
   ]
  },
  {
   "cell_type": "markdown",
   "id": "9408530b",
   "metadata": {},
   "source": [
    "---\n",
    "### RNN attempt following Kaggle set\n",
    "[Kaggle Example](https://www.kaggle.com/msripooja/hourly-energy-consumption-time-series-rnn-lstm)\\\n",
    "[Time Series in RNN Reference](https://www.javatpoint.com/tensorflow-time-series-in-rnn)"
   ]
  },
  {
   "cell_type": "code",
   "execution_count": 10,
   "id": "4957c4b9",
   "metadata": {},
   "outputs": [
    {
     "data": {
      "text/html": [
       "<div>\n",
       "<style scoped>\n",
       "    .dataframe tbody tr th:only-of-type {\n",
       "        vertical-align: middle;\n",
       "    }\n",
       "\n",
       "    .dataframe tbody tr th {\n",
       "        vertical-align: top;\n",
       "    }\n",
       "\n",
       "    .dataframe thead th {\n",
       "        text-align: right;\n",
       "    }\n",
       "</style>\n",
       "<table border=\"1\" class=\"dataframe\">\n",
       "  <thead>\n",
       "    <tr style=\"text-align: right;\">\n",
       "      <th></th>\n",
       "      <th>month</th>\n",
       "      <th>is_summer</th>\n",
       "      <th>day_of_week</th>\n",
       "      <th>is_weekday</th>\n",
       "      <th>hour</th>\n",
       "      <th>coast</th>\n",
       "      <th>east</th>\n",
       "      <th>far_west</th>\n",
       "      <th>north</th>\n",
       "      <th>north_c</th>\n",
       "      <th>southern</th>\n",
       "      <th>south_c</th>\n",
       "      <th>west</th>\n",
       "      <th>ercot</th>\n",
       "    </tr>\n",
       "  </thead>\n",
       "  <tbody>\n",
       "    <tr>\n",
       "      <th>2008-01-01 01:00:00</th>\n",
       "      <td>1</td>\n",
       "      <td>0</td>\n",
       "      <td>1</td>\n",
       "      <td>1</td>\n",
       "      <td>1</td>\n",
       "      <td>7582.426275</td>\n",
       "      <td>1137.197278</td>\n",
       "      <td>1289.741591</td>\n",
       "      <td>1120.591245</td>\n",
       "      <td>10782.48780</td>\n",
       "      <td>1894.920943</td>\n",
       "      <td>4857.044340</td>\n",
       "      <td>932.251506</td>\n",
       "      <td>29596.66098</td>\n",
       "    </tr>\n",
       "    <tr>\n",
       "      <th>2008-01-01 02:00:00</th>\n",
       "      <td>1</td>\n",
       "      <td>0</td>\n",
       "      <td>1</td>\n",
       "      <td>1</td>\n",
       "      <td>2</td>\n",
       "      <td>7483.387277</td>\n",
       "      <td>1129.312429</td>\n",
       "      <td>1320.549720</td>\n",
       "      <td>1130.163920</td>\n",
       "      <td>10873.00119</td>\n",
       "      <td>1826.089194</td>\n",
       "      <td>4867.512567</td>\n",
       "      <td>939.958255</td>\n",
       "      <td>29569.97455</td>\n",
       "    </tr>\n",
       "    <tr>\n",
       "      <th>2008-01-01 03:00:00</th>\n",
       "      <td>1</td>\n",
       "      <td>0</td>\n",
       "      <td>1</td>\n",
       "      <td>1</td>\n",
       "      <td>3</td>\n",
       "      <td>7381.744778</td>\n",
       "      <td>1155.484647</td>\n",
       "      <td>1328.442079</td>\n",
       "      <td>1129.355056</td>\n",
       "      <td>10952.63748</td>\n",
       "      <td>1832.883827</td>\n",
       "      <td>4849.639885</td>\n",
       "      <td>951.322118</td>\n",
       "      <td>29581.50987</td>\n",
       "    </tr>\n",
       "    <tr>\n",
       "      <th>2008-01-01 04:00:00</th>\n",
       "      <td>1</td>\n",
       "      <td>0</td>\n",
       "      <td>1</td>\n",
       "      <td>1</td>\n",
       "      <td>4</td>\n",
       "      <td>7452.871868</td>\n",
       "      <td>1209.918355</td>\n",
       "      <td>1344.322369</td>\n",
       "      <td>1148.919804</td>\n",
       "      <td>11104.17876</td>\n",
       "      <td>1819.248340</td>\n",
       "      <td>4858.047321</td>\n",
       "      <td>967.450488</td>\n",
       "      <td>29904.95730</td>\n",
       "    </tr>\n",
       "    <tr>\n",
       "      <th>2008-01-01 05:00:00</th>\n",
       "      <td>1</td>\n",
       "      <td>0</td>\n",
       "      <td>1</td>\n",
       "      <td>1</td>\n",
       "      <td>5</td>\n",
       "      <td>7530.354017</td>\n",
       "      <td>1265.055389</td>\n",
       "      <td>1355.020035</td>\n",
       "      <td>1171.267839</td>\n",
       "      <td>11369.93504</td>\n",
       "      <td>1834.777369</td>\n",
       "      <td>4962.345559</td>\n",
       "      <td>996.055206</td>\n",
       "      <td>30484.81045</td>\n",
       "    </tr>\n",
       "  </tbody>\n",
       "</table>\n",
       "</div>"
      ],
      "text/plain": [
       "                     month  is_summer  day_of_week  is_weekday  hour  \\\n",
       "2008-01-01 01:00:00      1          0            1           1     1   \n",
       "2008-01-01 02:00:00      1          0            1           1     2   \n",
       "2008-01-01 03:00:00      1          0            1           1     3   \n",
       "2008-01-01 04:00:00      1          0            1           1     4   \n",
       "2008-01-01 05:00:00      1          0            1           1     5   \n",
       "\n",
       "                           coast         east     far_west        north  \\\n",
       "2008-01-01 01:00:00  7582.426275  1137.197278  1289.741591  1120.591245   \n",
       "2008-01-01 02:00:00  7483.387277  1129.312429  1320.549720  1130.163920   \n",
       "2008-01-01 03:00:00  7381.744778  1155.484647  1328.442079  1129.355056   \n",
       "2008-01-01 04:00:00  7452.871868  1209.918355  1344.322369  1148.919804   \n",
       "2008-01-01 05:00:00  7530.354017  1265.055389  1355.020035  1171.267839   \n",
       "\n",
       "                         north_c     southern      south_c        west  \\\n",
       "2008-01-01 01:00:00  10782.48780  1894.920943  4857.044340  932.251506   \n",
       "2008-01-01 02:00:00  10873.00119  1826.089194  4867.512567  939.958255   \n",
       "2008-01-01 03:00:00  10952.63748  1832.883827  4849.639885  951.322118   \n",
       "2008-01-01 04:00:00  11104.17876  1819.248340  4858.047321  967.450488   \n",
       "2008-01-01 05:00:00  11369.93504  1834.777369  4962.345559  996.055206   \n",
       "\n",
       "                           ercot  \n",
       "2008-01-01 01:00:00  29596.66098  \n",
       "2008-01-01 02:00:00  29569.97455  \n",
       "2008-01-01 03:00:00  29581.50987  \n",
       "2008-01-01 04:00:00  29904.95730  \n",
       "2008-01-01 05:00:00  30484.81045  "
      ]
     },
     "execution_count": 10,
     "metadata": {},
     "output_type": "execute_result"
    }
   ],
   "source": [
    "ercot_time_df.head()"
   ]
  },
  {
   "cell_type": "code",
   "execution_count": 82,
   "id": "34e3cb38",
   "metadata": {},
   "outputs": [
    {
     "data": {
      "text/html": [
       "<div>\n",
       "<style scoped>\n",
       "    .dataframe tbody tr th:only-of-type {\n",
       "        vertical-align: middle;\n",
       "    }\n",
       "\n",
       "    .dataframe tbody tr th {\n",
       "        vertical-align: top;\n",
       "    }\n",
       "\n",
       "    .dataframe thead th {\n",
       "        text-align: right;\n",
       "    }\n",
       "</style>\n",
       "<table border=\"1\" class=\"dataframe\">\n",
       "  <thead>\n",
       "    <tr style=\"text-align: right;\">\n",
       "      <th></th>\n",
       "      <th>ercot</th>\n",
       "    </tr>\n",
       "  </thead>\n",
       "  <tbody>\n",
       "    <tr>\n",
       "      <th>2008-01-01 01:00:00</th>\n",
       "      <td>29596.66098</td>\n",
       "    </tr>\n",
       "    <tr>\n",
       "      <th>2008-01-01 02:00:00</th>\n",
       "      <td>29569.97455</td>\n",
       "    </tr>\n",
       "    <tr>\n",
       "      <th>2008-01-01 03:00:00</th>\n",
       "      <td>29581.50987</td>\n",
       "    </tr>\n",
       "    <tr>\n",
       "      <th>2008-01-01 04:00:00</th>\n",
       "      <td>29904.95730</td>\n",
       "    </tr>\n",
       "    <tr>\n",
       "      <th>2008-01-01 05:00:00</th>\n",
       "      <td>30484.81045</td>\n",
       "    </tr>\n",
       "    <tr>\n",
       "      <th>...</th>\n",
       "      <td>...</td>\n",
       "    </tr>\n",
       "    <tr>\n",
       "      <th>2019-12-31 19:00:00</th>\n",
       "      <td>41812.98000</td>\n",
       "    </tr>\n",
       "    <tr>\n",
       "      <th>2019-12-31 20:00:00</th>\n",
       "      <td>41079.76000</td>\n",
       "    </tr>\n",
       "    <tr>\n",
       "      <th>2019-12-31 21:00:00</th>\n",
       "      <td>40145.54000</td>\n",
       "    </tr>\n",
       "    <tr>\n",
       "      <th>2019-12-31 22:00:00</th>\n",
       "      <td>39330.60000</td>\n",
       "    </tr>\n",
       "    <tr>\n",
       "      <th>2019-12-31 23:00:00</th>\n",
       "      <td>38377.36000</td>\n",
       "    </tr>\n",
       "  </tbody>\n",
       "</table>\n",
       "<p>105191 rows × 1 columns</p>\n",
       "</div>"
      ],
      "text/plain": [
       "                           ercot\n",
       "2008-01-01 01:00:00  29596.66098\n",
       "2008-01-01 02:00:00  29569.97455\n",
       "2008-01-01 03:00:00  29581.50987\n",
       "2008-01-01 04:00:00  29904.95730\n",
       "2008-01-01 05:00:00  30484.81045\n",
       "...                          ...\n",
       "2019-12-31 19:00:00  41812.98000\n",
       "2019-12-31 20:00:00  41079.76000\n",
       "2019-12-31 21:00:00  40145.54000\n",
       "2019-12-31 22:00:00  39330.60000\n",
       "2019-12-31 23:00:00  38377.36000\n",
       "\n",
       "[105191 rows x 1 columns]"
      ]
     },
     "execution_count": 82,
     "metadata": {},
     "output_type": "execute_result"
    }
   ],
   "source": [
    "mini_df = pd.DataFrame(ercot_time_df['ercot'], columns = ['ercot'])\n",
    "mini_df"
   ]
  },
  {
   "cell_type": "code",
   "execution_count": 83,
   "id": "2d2414dd",
   "metadata": {},
   "outputs": [],
   "source": [
    "#Create train and test sets\n",
    "#mini_train, mini_test = np.split(mini_df, [int(.80 *len(mini_df))])\n",
    "#mini_train"
   ]
  },
  {
   "cell_type": "code",
   "execution_count": 84,
   "id": "d8e57649",
   "metadata": {},
   "outputs": [],
   "source": [
    "#Apply scaler\n",
    "from sklearn.preprocessing import MinMaxScaler\n",
    "\n",
    "#Instantiate\n",
    "scaler = MinMaxScaler()\n",
    "\n",
    "#Fit scaler and transform\n",
    "mini_df['ercot'] = scaler.fit_transform(mini_df.values.reshape(-1,1)) #Transform all data for now\n",
    "#mini_train['ercot'] = scaler.fit_transform(mini_train.values.reshape(-1, 1))\n",
    "#mini_test['ercot'] = scaler.fit_transform(mini_test.values.reshape(-1, 1)) "
   ]
  },
  {
   "cell_type": "code",
   "execution_count": 85,
   "id": "b5f97877",
   "metadata": {},
   "outputs": [
    {
     "data": {
      "text/html": [
       "<div>\n",
       "<style scoped>\n",
       "    .dataframe tbody tr th:only-of-type {\n",
       "        vertical-align: middle;\n",
       "    }\n",
       "\n",
       "    .dataframe tbody tr th {\n",
       "        vertical-align: top;\n",
       "    }\n",
       "\n",
       "    .dataframe thead th {\n",
       "        text-align: right;\n",
       "    }\n",
       "</style>\n",
       "<table border=\"1\" class=\"dataframe\">\n",
       "  <thead>\n",
       "    <tr style=\"text-align: right;\">\n",
       "      <th></th>\n",
       "      <th>ercot</th>\n",
       "    </tr>\n",
       "  </thead>\n",
       "  <tbody>\n",
       "    <tr>\n",
       "      <th>2008-01-01 01:00:00</th>\n",
       "      <td>0.180475</td>\n",
       "    </tr>\n",
       "    <tr>\n",
       "      <th>2008-01-01 02:00:00</th>\n",
       "      <td>0.179990</td>\n",
       "    </tr>\n",
       "    <tr>\n",
       "      <th>2008-01-01 03:00:00</th>\n",
       "      <td>0.180200</td>\n",
       "    </tr>\n",
       "    <tr>\n",
       "      <th>2008-01-01 04:00:00</th>\n",
       "      <td>0.186081</td>\n",
       "    </tr>\n",
       "    <tr>\n",
       "      <th>2008-01-01 05:00:00</th>\n",
       "      <td>0.196625</td>\n",
       "    </tr>\n",
       "    <tr>\n",
       "      <th>...</th>\n",
       "      <td>...</td>\n",
       "    </tr>\n",
       "    <tr>\n",
       "      <th>2019-12-31 19:00:00</th>\n",
       "      <td>0.402614</td>\n",
       "    </tr>\n",
       "    <tr>\n",
       "      <th>2019-12-31 20:00:00</th>\n",
       "      <td>0.389282</td>\n",
       "    </tr>\n",
       "    <tr>\n",
       "      <th>2019-12-31 21:00:00</th>\n",
       "      <td>0.372294</td>\n",
       "    </tr>\n",
       "    <tr>\n",
       "      <th>2019-12-31 22:00:00</th>\n",
       "      <td>0.357475</td>\n",
       "    </tr>\n",
       "    <tr>\n",
       "      <th>2019-12-31 23:00:00</th>\n",
       "      <td>0.340142</td>\n",
       "    </tr>\n",
       "  </tbody>\n",
       "</table>\n",
       "<p>105191 rows × 1 columns</p>\n",
       "</div>"
      ],
      "text/plain": [
       "                        ercot\n",
       "2008-01-01 01:00:00  0.180475\n",
       "2008-01-01 02:00:00  0.179990\n",
       "2008-01-01 03:00:00  0.180200\n",
       "2008-01-01 04:00:00  0.186081\n",
       "2008-01-01 05:00:00  0.196625\n",
       "...                       ...\n",
       "2019-12-31 19:00:00  0.402614\n",
       "2019-12-31 20:00:00  0.389282\n",
       "2019-12-31 21:00:00  0.372294\n",
       "2019-12-31 22:00:00  0.357475\n",
       "2019-12-31 23:00:00  0.340142\n",
       "\n",
       "[105191 rows x 1 columns]"
      ]
     },
     "execution_count": 85,
     "metadata": {},
     "output_type": "execute_result"
    }
   ],
   "source": [
    "#Scaling whole dataset isn't good, need to do to only the train set\n",
    "mini_df"
   ]
  },
  {
   "cell_type": "code",
   "execution_count": 80,
   "id": "92c1374f",
   "metadata": {},
   "outputs": [],
   "source": [
    "#Check to see if it's scaled\n",
    "#mini_train"
   ]
  },
  {
   "cell_type": "code",
   "execution_count": 108,
   "id": "b6cdbbb9",
   "metadata": {},
   "outputs": [],
   "source": [
    "# #Plot scaled training set\n",
    "# mini_train.plot(figsize = (16,4), legend = True)\n",
    "# mini_test.plot(figsize = (16,4), legend = True)\n",
    "# plt.title('ERCOT Hourly Energy Demand - AFTER NORMALIZATION')\n",
    "# plt.show()"
   ]
  },
  {
   "cell_type": "code",
   "execution_count": 362,
   "id": "8255fa92",
   "metadata": {},
   "outputs": [],
   "source": [
    "# #Turn train and test into series\n",
    "# mini_train = mini_train.squeeze()\n",
    "# mini_test = mini_test.squeeze()\n",
    "\n",
    "# #Turn the whole scaled df to series\n",
    "# mini_df = mini_df.squeeze()"
   ]
  },
  {
   "cell_type": "code",
   "execution_count": 107,
   "id": "04be92f0",
   "metadata": {},
   "outputs": [],
   "source": [
    "# #Eyes on train and test set splits\n",
    "# fig = go.Figure()\n",
    "\n",
    "# fig.add_trace(go.Scatter(x = mini_train.index, y = mini_train, mode = 'lines', name = \"Train\"))\n",
    "# fig.add_trace(go.Scatter(x = mini_test.index, y = mini_test, mode = 'lines', name = \"Test\"))\n",
    "\n",
    "# #Activate slider\n",
    "# fig.update_xaxes(rangeslider_visible = True)\n",
    "# fig.show()"
   ]
  },
  {
   "cell_type": "markdown",
   "id": "f29b9647",
   "metadata": {},
   "source": [
    "Step 3. Prepare data for training the RNN models"
   ]
  },
  {
   "cell_type": "code",
   "execution_count": 87,
   "id": "2f9286c6",
   "metadata": {},
   "outputs": [],
   "source": [
    "#Now split the entire scaled dataset\n",
    "#mini_train, mini_test = np.split(mini_df, [int(.80 *len(mini_df))])"
   ]
  },
  {
   "cell_type": "code",
   "execution_count": 88,
   "id": "c7c494c2",
   "metadata": {},
   "outputs": [],
   "source": [
    "#mini_train"
   ]
  },
  {
   "cell_type": "code",
   "execution_count": 89,
   "id": "6c162b27",
   "metadata": {},
   "outputs": [],
   "source": [
    "#mini_test"
   ]
  },
  {
   "cell_type": "code",
   "execution_count": 90,
   "id": "2cce3bc2",
   "metadata": {},
   "outputs": [],
   "source": [
    "#What are X and y in RNN for time series? \n",
    "#X = time?\n",
    "#Y = energy?"
   ]
  },
  {
   "cell_type": "code",
   "execution_count": 91,
   "id": "8c1c8af1",
   "metadata": {},
   "outputs": [],
   "source": [
    "# #Convert to np array\n",
    "# X_train = np.array(mini_train.index)\n",
    "# y_train = np.array(y_train)\n",
    "\n",
    "# X_test = np.array(X_test)\n",
    "# y_test = np.array(y_test)\n",
    "\n",
    "# #4 reshape data to input into RNN models\n",
    "# X_train = np.reshape(X_train, (110000, seq_len, 1))\n",
    "# X_test = np.reshape(X_test, (X_test.shape[0], seq_len, 1))"
   ]
  },
  {
   "cell_type": "code",
   "execution_count": 92,
   "id": "158599ec",
   "metadata": {},
   "outputs": [],
   "source": [
    "#Convert to dataframe\n",
    "#mini_df = pd.DataFrame(mini_df)"
   ]
  },
  {
   "cell_type": "code",
   "execution_count": 93,
   "id": "559b3a2f",
   "metadata": {},
   "outputs": [
    {
     "name": "stdout",
     "output_type": "stream",
     "text": [
      "84152.8\n"
     ]
    }
   ],
   "source": [
    "#What is 80% of the data? For the train set\n",
    "print(.80*105191)"
   ]
  },
  {
   "cell_type": "code",
   "execution_count": 94,
   "id": "3644665e",
   "metadata": {},
   "outputs": [
    {
     "data": {
      "text/html": [
       "<div>\n",
       "<style scoped>\n",
       "    .dataframe tbody tr th:only-of-type {\n",
       "        vertical-align: middle;\n",
       "    }\n",
       "\n",
       "    .dataframe tbody tr th {\n",
       "        vertical-align: top;\n",
       "    }\n",
       "\n",
       "    .dataframe thead th {\n",
       "        text-align: right;\n",
       "    }\n",
       "</style>\n",
       "<table border=\"1\" class=\"dataframe\">\n",
       "  <thead>\n",
       "    <tr style=\"text-align: right;\">\n",
       "      <th></th>\n",
       "      <th>ercot</th>\n",
       "    </tr>\n",
       "  </thead>\n",
       "  <tbody>\n",
       "    <tr>\n",
       "      <th>2008-01-01 01:00:00</th>\n",
       "      <td>0.180475</td>\n",
       "    </tr>\n",
       "    <tr>\n",
       "      <th>2008-01-01 02:00:00</th>\n",
       "      <td>0.179990</td>\n",
       "    </tr>\n",
       "    <tr>\n",
       "      <th>2008-01-01 03:00:00</th>\n",
       "      <td>0.180200</td>\n",
       "    </tr>\n",
       "    <tr>\n",
       "      <th>2008-01-01 04:00:00</th>\n",
       "      <td>0.186081</td>\n",
       "    </tr>\n",
       "    <tr>\n",
       "      <th>2008-01-01 05:00:00</th>\n",
       "      <td>0.196625</td>\n",
       "    </tr>\n",
       "    <tr>\n",
       "      <th>...</th>\n",
       "      <td>...</td>\n",
       "    </tr>\n",
       "    <tr>\n",
       "      <th>2017-08-07 05:00:00</th>\n",
       "      <td>0.374951</td>\n",
       "    </tr>\n",
       "    <tr>\n",
       "      <th>2017-08-07 06:00:00</th>\n",
       "      <td>0.395095</td>\n",
       "    </tr>\n",
       "    <tr>\n",
       "      <th>2017-08-07 07:00:00</th>\n",
       "      <td>0.428804</td>\n",
       "    </tr>\n",
       "    <tr>\n",
       "      <th>2017-08-07 08:00:00</th>\n",
       "      <td>0.432956</td>\n",
       "    </tr>\n",
       "    <tr>\n",
       "      <th>2017-08-07 09:00:00</th>\n",
       "      <td>0.454978</td>\n",
       "    </tr>\n",
       "  </tbody>\n",
       "</table>\n",
       "<p>84152 rows × 1 columns</p>\n",
       "</div>"
      ],
      "text/plain": [
       "                        ercot\n",
       "2008-01-01 01:00:00  0.180475\n",
       "2008-01-01 02:00:00  0.179990\n",
       "2008-01-01 03:00:00  0.180200\n",
       "2008-01-01 04:00:00  0.186081\n",
       "2008-01-01 05:00:00  0.196625\n",
       "...                       ...\n",
       "2017-08-07 05:00:00  0.374951\n",
       "2017-08-07 06:00:00  0.395095\n",
       "2017-08-07 07:00:00  0.428804\n",
       "2017-08-07 08:00:00  0.432956\n",
       "2017-08-07 09:00:00  0.454978\n",
       "\n",
       "[84152 rows x 1 columns]"
      ]
     },
     "execution_count": 94,
     "metadata": {},
     "output_type": "execute_result"
    }
   ],
   "source": [
    "#Check\n",
    "mini_df[:84152]"
   ]
  },
  {
   "cell_type": "code",
   "execution_count": 95,
   "id": "e787be5e",
   "metadata": {},
   "outputs": [],
   "source": [
    "#Prepare data for training the RNN models\n",
    "#Make def that takes in data and sequence length and then returns a train/test split\n",
    "def load_data(stock, seq_len):\n",
    "    X_train = []\n",
    "    y_train = []\n",
    "    for i in range(seq_len, len(stock)):\n",
    "        X_train.append(stock.iloc[i - seq_len : i, 0])\n",
    "        y_train.append(stock.iloc[i, 0])\n",
    "    \n",
    "    #1 last 6189 days are going to be used in test\n",
    "    X_test = X_train[84152:]    \n",
    "    y_test = y_train[84152:]\n",
    "    \n",
    "    #2 first 110000 days are going to be used in training\n",
    "    X_train = X_train[:84152]           \n",
    "    y_train = y_train[:84152]\n",
    "    \n",
    "    #3 convert to numpy array\n",
    "    X_train = np.array(X_train)\n",
    "    y_train = np.array(y_train)\n",
    "    \n",
    "    X_test = np.array(X_test)\n",
    "    y_test = np.array(y_test)\n",
    "    \n",
    "    #4 reshape data to input into RNN models\n",
    "    X_train = np.reshape(X_train, (84152, seq_len, 1))\n",
    "    \n",
    "    X_test = np.reshape(X_test, (X_test.shape[0], seq_len, 1))\n",
    "    \n",
    "    return [X_train, y_train, X_test, y_test]"
   ]
  },
  {
   "cell_type": "code",
   "execution_count": 96,
   "id": "8680efe3",
   "metadata": {},
   "outputs": [
    {
     "name": "stdout",
     "output_type": "stream",
     "text": [
      "X_train.shape =  (84152, 12, 1)\n",
      "y_train.shape =  (84152,)\n",
      "X_test.shape =  (21027, 12, 1)\n",
      "y_test.shape =  (21027,)\n"
     ]
    }
   ],
   "source": [
    "#Create train, test data\n",
    "seq_len = 12 #In the example the sequence length is 20...why? How to chose sequence length? \n",
    "\n",
    "X_train, y_train, X_test, y_test = load_data(mini_df, seq_len)\n",
    "\n",
    "print('X_train.shape = ', X_train.shape)\n",
    "print('y_train.shape = ', y_train.shape)\n",
    "print('X_test.shape = ', X_test.shape)\n",
    "print('y_test.shape = ', y_test.shape)"
   ]
  },
  {
   "cell_type": "markdown",
   "id": "39c1bb3a",
   "metadata": {},
   "source": [
    "Step 4. Build a simple RNN model \\\n",
    "[Reference from TensorFlow](https://www.tensorflow.org/api_docs/python/tf/keras/layers/SimpleRNN)"
   ]
  },
  {
   "cell_type": "code",
   "execution_count": 97,
   "id": "5b5a73b0",
   "metadata": {},
   "outputs": [
    {
     "name": "stdout",
     "output_type": "stream",
     "text": [
      "Model: \"sequential_5\"\n",
      "_________________________________________________________________\n",
      "Layer (type)                 Output Shape              Param #   \n",
      "=================================================================\n",
      "simple_rnn (SimpleRNN)       (None, 12, 40)            1680      \n",
      "_________________________________________________________________\n",
      "dropout (Dropout)            (None, 12, 40)            0         \n",
      "_________________________________________________________________\n",
      "simple_rnn_1 (SimpleRNN)     (None, 12, 40)            3240      \n",
      "_________________________________________________________________\n",
      "dropout_1 (Dropout)          (None, 12, 40)            0         \n",
      "_________________________________________________________________\n",
      "simple_rnn_2 (SimpleRNN)     (None, 40)                3240      \n",
      "_________________________________________________________________\n",
      "dropout_2 (Dropout)          (None, 40)                0         \n",
      "_________________________________________________________________\n",
      "dense_26 (Dense)             (None, 1)                 41        \n",
      "=================================================================\n",
      "Total params: 8,201\n",
      "Trainable params: 8,201\n",
      "Non-trainable params: 0\n",
      "_________________________________________________________________\n"
     ]
    }
   ],
   "source": [
    "#Build Simple RNN model \n",
    "from tensorflow.keras.layers import SimpleRNN, Dropout, Dense\n",
    "from tensorflow.keras.models import Sequential\n",
    "\n",
    "#Build Model\n",
    "rnn_model = Sequential()\n",
    "\n",
    "#Add hidden layer\n",
    "rnn_model.add(SimpleRNN(40, activation = \"tanh\", \n",
    "                        return_sequences = True, \n",
    "                        input_shape = (X_train.shape[1],1)))\n",
    "#Adjust for overfitting\n",
    "rnn_model.add(Dropout(0.15))\n",
    "\n",
    "#Add hidden layer\n",
    "rnn_model.add(SimpleRNN(40, activation = \"tanh\",\n",
    "                        return_sequences = True))\n",
    "\n",
    "#Adjust for overfitting\n",
    "rnn_model.add(Dropout(0.15))\n",
    "\n",
    "#Add hidden layer\n",
    "rnn_model.add(SimpleRNN(40, activation = \"tanh\", \n",
    "                        return_sequences = False))\n",
    "\n",
    "#Adjust for overfitting\n",
    "rnn_model.add(Dropout(0.15))\n",
    "\n",
    "#Add output layer\n",
    "rnn_model.add(Dense(1))\n",
    "\n",
    "display(rnn_model.summary())\n",
    "\n",
    "#Run model\n",
    "rnn_model.compile(optimizer = \"adam\", loss = \"MSE\", metrics = ['accuracy'])\n",
    "rnn_model.fit(X_train, y_train, epochs = 10, batch_size = 1000)"
   ]
  },
  {
   "cell_type": "code",
   "execution_count": 102,
   "id": "c06e23ab",
   "metadata": {},
   "outputs": [
    {
     "data": {
      "image/png": "[encoded data removed]",
      "text/plain": [
       "<Figure size 1152x288 with 1 Axes>"
      ]
     },
     "metadata": {
      "needs_background": "light"
     },
     "output_type": "display_data"
    },
    {
     "name": "stdout",
     "output_type": "stream",
     "text": [
      "R^2 Score of RNN model =  0.9780389543860171\n"
     ]
    }
   ],
   "source": [
    "#Predict\n",
    "rnn_predictions = rnn_model.predict(X_test)\n",
    "\n",
    "#Score\n",
    "rnn_score = r2_score(y_test, rnn_predictions)\n",
    "\n",
    "#Compare actual values vs predicted on graph\n",
    "def plot_predictions(test, predicted, title):\n",
    "    plt.figure(figsize = (16,4))\n",
    "    plt.plot(test, color = 'blue', label = 'Actual Energy Demand')\n",
    "    plt.plot(predicted, alpha = 0.5, color = 'orange', label = 'Predicted Energy Demand')\n",
    "    plt.title(title)\n",
    "    plt.xlabel('Time')\n",
    "    plt.ylabel('Normalized Energy Demand scale')\n",
    "    plt.legend()\n",
    "    plt.show()\n",
    "    \n",
    "plot_predictions(y_test, rnn_predictions, \"Predictions made by simple RNN model\")\n",
    "\n",
    "print(\"R^2 Score of RNN model = \", rnn_score)"
   ]
  },
  {
   "cell_type": "markdown",
   "id": "aa3e399d",
   "metadata": {},
   "source": [
    "This model is also scoring really well, with an R^2 of 98%. It's fitting the data really nicely even at such a granular level, though more testing, forecasting, and tuning to account for overfitting still need to be taken as next steps."
   ]
  },
  {
   "cell_type": "markdown",
   "id": "fd7808b4",
   "metadata": {},
   "source": [
    "---\n",
    "### LSTM2 Model\n",
    "Here is a second attempt at an LSTM model. "
   ]
  },
  {
   "cell_type": "code",
   "execution_count": 105,
   "id": "80cec171",
   "metadata": {},
   "outputs": [
    {
     "name": "stdout",
     "output_type": "stream",
     "text": [
      "Model: \"sequential_7\"\n",
      "_________________________________________________________________\n",
      "Layer (type)                 Output Shape              Param #   \n",
      "=================================================================\n",
      "lstm_4 (LSTM)                (None, 12, 40)            6720      \n",
      "_________________________________________________________________\n",
      "dropout_6 (Dropout)          (None, 12, 40)            0         \n",
      "_________________________________________________________________\n",
      "lstm_5 (LSTM)                (None, 12, 40)            12960     \n",
      "_________________________________________________________________\n",
      "dropout_7 (Dropout)          (None, 12, 40)            0         \n",
      "_________________________________________________________________\n",
      "lstm_6 (LSTM)                (None, 40)                12960     \n",
      "_________________________________________________________________\n",
      "dropout_8 (Dropout)          (None, 40)                0         \n",
      "_________________________________________________________________\n",
      "dense_28 (Dense)             (None, 1)                 41        \n",
      "=================================================================\n",
      "Total params: 32,681\n",
      "Trainable params: 32,681\n",
      "Non-trainable params: 0\n",
      "_________________________________________________________________\n"
     ]
    },
    {
     "data": {
      "text/plain": [
       "None"
      ]
     },
     "metadata": {},
     "output_type": "display_data"
    },
    {
     "name": "stdout",
     "output_type": "stream",
     "text": [
      "Epoch 1/10\n",
      "85/85 [==============================] - 4s 49ms/step - loss: 0.0299\n",
      "Epoch 2/10\n",
      "85/85 [==============================] - 4s 50ms/step - loss: 0.0148\n",
      "Epoch 3/10\n",
      "85/85 [==============================] - 4s 51ms/step - loss: 0.0080\n",
      "Epoch 4/10\n",
      "85/85 [==============================] - 4s 51ms/step - loss: 0.0043\n",
      "Epoch 5/10\n",
      "85/85 [==============================] - 4s 51ms/step - loss: 0.0029\n",
      "Epoch 6/10\n",
      "85/85 [==============================] - 4s 49ms/step - loss: 0.0023\n",
      "Epoch 7/10\n",
      "85/85 [==============================] - 4s 49ms/step - loss: 0.0020\n",
      "Epoch 8/10\n",
      "85/85 [==============================] - 4s 50ms/step - loss: 0.0018\n",
      "Epoch 9/10\n",
      "85/85 [==============================] - 4s 49ms/step - loss: 0.0016\n",
      "Epoch 10/10\n",
      "85/85 [==============================] - 4s 48ms/step - loss: 0.0015\n"
     ]
    },
    {
     "data": {
      "text/plain": [
       "<tensorflow.python.keras.callbacks.History at 0x1d4b1a2fe50>"
      ]
     },
     "execution_count": 105,
     "metadata": {},
     "output_type": "execute_result"
    }
   ],
   "source": [
    "#Build LSTM Model\n",
    "#Create new sequential model\n",
    "lstm_model = Sequential()\n",
    "\n",
    "#Add 3 hidden layers, with dropout to control overfitting\n",
    "lstm_model.add(LSTM(40, activation = \"tanh\", \n",
    "                    return_sequences = True, \n",
    "                    input_shape = (X_train.shape[1],1)))\n",
    "lstm_model.add(Dropout(0.15))\n",
    "\n",
    "lstm_model.add(LSTM(40, activation = \"tanh\", \n",
    "                    return_sequences = True))\n",
    "lstm_model.add(Dropout(0.15))\n",
    "\n",
    "lstm_model.add(LSTM(40, activation = \"tanh\", \n",
    "                    return_sequences = False))\n",
    "lstm_model.add(Dropout(0.15))\n",
    "\n",
    "#Declare output layer\n",
    "lstm_model.add(Dense(1))\n",
    "\n",
    "display(lstm_model.summary())\n",
    "\n",
    "#Run model \n",
    "lstm_model.compile(optimizer = \"adam\", loss = \"MSE\")\n",
    "lstm_model.fit(X_train, y_train, epochs = 10, batch_size = 1000)"
   ]
  },
  {
   "cell_type": "code",
   "execution_count": 106,
   "id": "7492c3ca",
   "metadata": {},
   "outputs": [
    {
     "data": {
      "image/png": "[encoded data removed]",
      "text/plain": [
       "<Figure size 1152x288 with 1 Axes>"
      ]
     },
     "metadata": {
      "needs_background": "light"
     },
     "output_type": "display_data"
    },
    {
     "name": "stdout",
     "output_type": "stream",
     "text": [
      "R^2 Score of LSTM model =  0.9845689609817418\n"
     ]
    }
   ],
   "source": [
    "#Predict\n",
    "lstm_predictions = lstm_model.predict(X_test)\n",
    "\n",
    "#Score\n",
    "lstm_score = r2_score(y_test, lstm_predictions)\n",
    "\n",
    "#Compare actual values vs predicted on graph\n",
    "def plot_predictions(test, predicted, title):\n",
    "    plt.figure(figsize = (16,4))\n",
    "    plt.plot(test, color = 'blue', label = 'Actual Energy Demand')\n",
    "    plt.plot(predicted, alpha = 0.5, color = 'orange', label = 'Predicted Energy Demand')\n",
    "    plt.title(title)\n",
    "    plt.xlabel('Time')\n",
    "    plt.ylabel('Normalized Energy Demand scale')\n",
    "    plt.legend()\n",
    "    plt.show()\n",
    "    \n",
    "plot_predictions(y_test, lstm_predictions, \"Predictions from LSTM Model\")\n",
    "\n",
    "print(\"R^2 Score of LSTM model = \", lstm_score)"
   ]
  },
  {
   "cell_type": "markdown",
   "id": "3ff48ea5",
   "metadata": {},
   "source": [
    "This graph also looks great. R^2 of .98 is nice. Again the same comments as before can be made. "
   ]
  },
  {
   "cell_type": "markdown",
   "id": "fc0e8d85",
   "metadata": {},
   "source": [
    "---\n",
    "### NN Model"
   ]
  },
  {
   "cell_type": "code",
   "execution_count": 109,
   "id": "45723169",
   "metadata": {
    "scrolled": false
   },
   "outputs": [
    {
     "name": "stdout",
     "output_type": "stream",
     "text": [
      "Epoch 1/50\n",
      "WARNING:tensorflow:Layer dense_29 is casting an input tensor from dtype float64 to the layer's dtype of float32, which is new behavior in TensorFlow 2.  The layer has dtype float32 because it's dtype defaults to floatx.\n",
      "\n",
      "If you intended to run this layer in float32, you can safely ignore this warning. If in doubt, this warning is likely only an issue if you are porting a TensorFlow 1.X model to TensorFlow 2.\n",
      "\n",
      "To change all layers to have dtype float64 by default, call `tf.keras.backend.set_floatx('float64')`. To change just this layer, pass dtype='float64' to the layer constructor. If you are the author of this layer, you can disable autocasting by passing autocast=False to the base Layer constructor.\n",
      "\n",
      "2630/2630 [==============================] - 1s 465us/step - loss: 201315.2031 - mean_squared_error: 201315.2031\n",
      "Epoch 2/50\n",
      "2630/2630 [==============================] - 1s 454us/step - loss: 0.0015 - mean_squared_error: 0.0015\n",
      "Epoch 3/50\n",
      "2630/2630 [==============================] - 1s 454us/step - loss: 938.8037 - mean_squared_error: 938.8037\n",
      "Epoch 4/50\n",
      "2630/2630 [==============================] - 1s 457us/step - loss: 1722.5883 - mean_squared_error: 1722.5883\n",
      "Epoch 5/50\n",
      "2630/2630 [==============================] - 1s 454us/step - loss: 1036.8059 - mean_squared_error: 1036.8059\n",
      "Epoch 6/50\n",
      "2630/2630 [==============================] - 1s 456us/step - loss: 1267.2817 - mean_squared_error: 1267.2817\n",
      "Epoch 7/50\n",
      "2630/2630 [==============================] - 1s 453us/step - loss: 948.0409 - mean_squared_error: 948.0409\n",
      "Epoch 8/50\n",
      "2630/2630 [==============================] - 1s 459us/step - loss: 1403.1738 - mean_squared_error: 1403.1738\n",
      "Epoch 9/50\n",
      "2630/2630 [==============================] - 1s 458us/step - loss: 574.4863 - mean_squared_error: 574.4863\n",
      "Epoch 10/50\n",
      "2630/2630 [==============================] - 1s 454us/step - loss: 881.0527 - mean_squared_error: 881.0527\n",
      "Epoch 11/50\n",
      "2630/2630 [==============================] - 1s 454us/step - loss: 901.8571 - mean_squared_error: 901.8571\n",
      "Epoch 12/50\n",
      "2630/2630 [==============================] - 1s 458us/step - loss: 1104.6122 - mean_squared_error: 1104.6122\n",
      "Epoch 13/50\n",
      "2630/2630 [==============================] - 1s 452us/step - loss: 746.5849 - mean_squared_error: 746.5849\n",
      "Epoch 14/50\n",
      "2630/2630 [==============================] - 1s 459us/step - loss: 1077.5455 - mean_squared_error: 1077.5455\n",
      "Epoch 15/50\n",
      "2630/2630 [==============================] - 1s 457us/step - loss: 977.2409 - mean_squared_error: 977.2409\n",
      "Epoch 16/50\n",
      "2630/2630 [==============================] - 1s 461us/step - loss: 1053.7147 - mean_squared_error: 1053.7147\n",
      "Epoch 17/50\n",
      "2630/2630 [==============================] - 1s 457us/step - loss: 1308.9563 - mean_squared_error: 1308.9563\n",
      "Epoch 18/50\n",
      "2630/2630 [==============================] - 1s 460us/step - loss: 570.4489 - mean_squared_error: 570.4489\n",
      "Epoch 19/50\n",
      "2630/2630 [==============================] - 1s 461us/step - loss: 684.2637 - mean_squared_error: 684.2637\n",
      "Epoch 20/50\n",
      "2630/2630 [==============================] - 1s 455us/step - loss: 795.6931 - mean_squared_error: 795.6931\n",
      "Epoch 21/50\n",
      "2630/2630 [==============================] - 1s 462us/step - loss: 1633.8846 - mean_squared_error: 1633.8846\n",
      "Epoch 22/50\n",
      "2630/2630 [==============================] - 1s 453us/step - loss: 302.4617 - mean_squared_error: 302.4617\n",
      "Epoch 23/50\n",
      "2630/2630 [==============================] - 1s 459us/step - loss: 675.7928 - mean_squared_error: 675.7928\n",
      "Epoch 24/50\n",
      "2630/2630 [==============================] - 1s 458us/step - loss: 885.3690 - mean_squared_error: 885.3690\n",
      "Epoch 25/50\n",
      "2630/2630 [==============================] - 1s 457us/step - loss: 619.2785 - mean_squared_error: 619.2785\n",
      "Epoch 26/50\n",
      "2630/2630 [==============================] - 1s 459us/step - loss: 523.2388 - mean_squared_error: 523.2388\n",
      "Epoch 27/50\n",
      "2630/2630 [==============================] - 1s 456us/step - loss: 707.1943 - mean_squared_error: 707.1943\n",
      "Epoch 28/50\n",
      "2630/2630 [==============================] - 1s 449us/step - loss: 691.5270 - mean_squared_error: 691.5270\n",
      "Epoch 29/50\n",
      "2630/2630 [==============================] - 1s 451us/step - loss: 557.4730 - mean_squared_error: 557.4730\n",
      "Epoch 30/50\n",
      "2630/2630 [==============================] - 1s 449us/step - loss: 681.4706 - mean_squared_error: 681.4706\n",
      "Epoch 31/50\n",
      "2630/2630 [==============================] - 1s 452us/step - loss: 597.7880 - mean_squared_error: 597.7880\n",
      "Epoch 32/50\n",
      "2630/2630 [==============================] - 1s 457us/step - loss: 609.0479 - mean_squared_error: 609.0479\n",
      "Epoch 33/50\n",
      "2630/2630 [==============================] - 1s 456us/step - loss: 606.1838 - mean_squared_error: 606.1838\n",
      "Epoch 34/50\n",
      "2630/2630 [==============================] - 1s 463us/step - loss: 479.7302 - mean_squared_error: 479.7302\n",
      "Epoch 35/50\n",
      "2630/2630 [==============================] - 1s 455us/step - loss: 717.2529 - mean_squared_error: 717.2529\n",
      "Epoch 36/50\n",
      "2630/2630 [==============================] - 1s 453us/step - loss: 414.8564 - mean_squared_error: 414.8564\n",
      "Epoch 37/50\n",
      "2630/2630 [==============================] - 1s 455us/step - loss: 525.8726 - mean_squared_error: 525.8726\n",
      "Epoch 38/50\n",
      "2630/2630 [==============================] - 1s 454us/step - loss: 542.3641 - mean_squared_error: 542.3641\n",
      "Epoch 39/50\n",
      "2630/2630 [==============================] - 1s 458us/step - loss: 570.2844 - mean_squared_error: 570.2844\n",
      "Epoch 40/50\n",
      "2630/2630 [==============================] - 1s 451us/step - loss: 554.6971 - mean_squared_error: 554.6971\n",
      "Epoch 41/50\n",
      "2630/2630 [==============================] - 1s 450us/step - loss: 635.5356 - mean_squared_error: 635.5356\n",
      "Epoch 42/50\n",
      "2630/2630 [==============================] - 1s 451us/step - loss: 523.1627 - mean_squared_error: 523.1627\n",
      "Epoch 43/50\n",
      "2630/2630 [==============================] - 1s 459us/step - loss: 495.6184 - mean_squared_error: 495.6184\n",
      "Epoch 44/50\n",
      "2630/2630 [==============================] - 1s 468us/step - loss: 495.1683 - mean_squared_error: 495.1683\n",
      "Epoch 45/50\n",
      "2630/2630 [==============================] - 1s 463us/step - loss: 552.6229 - mean_squared_error: 552.6229\n",
      "Epoch 46/50\n",
      "2630/2630 [==============================] - 1s 466us/step - loss: 762.4365 - mean_squared_error: 762.4365\n",
      "Epoch 47/50\n",
      "2630/2630 [==============================] - 1s 455us/step - loss: 467.8215 - mean_squared_error: 467.8215\n",
      "Epoch 48/50\n",
      "2630/2630 [==============================] - 1s 461us/step - loss: 510.5717 - mean_squared_error: 510.5717\n",
      "Epoch 49/50\n",
      "2630/2630 [==============================] - 1s 457us/step - loss: 566.9775 - mean_squared_error: 566.9775\n",
      "Epoch 50/50\n",
      "2630/2630 [==============================] - 1s 462us/step - loss: 833.9965 - mean_squared_error: 833.9965\n"
     ]
    }
   ],
   "source": [
    "#Set up train and test sets\n",
    "train, test = np.split(ercot_time_df['ercot'], [int(.80 *len(ercot_time_df))])\n",
    "\n",
    "#Build Model\n",
    "#Create a new sequential model\n",
    "model = keras.Sequential() #Change\n",
    "\n",
    "#Declare the hidden layers\n",
    "model.add(layers.Dense(5, activation = \"linear\"))\n",
    "model.add(layers.Dense(5, activation = \"linear\"))\n",
    "model.add(layers.Dense(5, activation = \"linear\"))\n",
    "model.add(layers.Dense(5, activation = \"linear\"))\n",
    "model.add(layers.Dense(5, activation = \"linear\"))\n",
    "\n",
    "# Declare the output layer\n",
    "model.add(layers.Dense(1, activation = \"linear\"))\n",
    "\n",
    "#Compile Model \n",
    "model.compile(optimizer = \"adam\", loss = \"MSE\", metrics = [tf.keras.metrics.MeanSquaredError()])\n",
    "\n",
    "#Train Model \n",
    "history = model.fit(train, train, epochs = 50, verbose = 1) "
   ]
  },
  {
   "cell_type": "markdown",
   "id": "a1652a96",
   "metadata": {},
   "source": [
    "The remainder of this model was not seen to completion and still needs debugging. Next steps could be started here. "
   ]
  },
  {
   "cell_type": "code",
   "execution_count": 115,
   "id": "a93a50cc",
   "metadata": {},
   "outputs": [],
   "source": [
    "# #Predict\n",
    "# model_predictions = model.predict(X_test)\n",
    "\n",
    "# #Score\n",
    "# model_score = r2_score(y_test, model_predictions)\n",
    "\n",
    "# #Compare actual values vs predicted on graph\n",
    "# def plot_predictions(test, predicted, title):\n",
    "#     plt.figure(figsize = (16,4))\n",
    "#     plt.plot(test, color = 'blue', label = 'Actual Energy Demand')\n",
    "#     plt.plot(predicted, alpha = 0.5, color = 'orange', label = 'Predicted Energy Demand')\n",
    "#     plt.title(title)\n",
    "#     plt.xlabel('Time')\n",
    "#     plt.ylabel('Normalized Energy Demand scale')\n",
    "#     plt.legend()\n",
    "#     plt.show()\n",
    "    \n",
    "# plot_predictions(y_test, model_predictions, \"Predictions made by simple Neural Network model\")\n",
    "\n",
    "# print(\"R^2 Score of NN model = \", model_score)"
   ]
  },
  {
   "cell_type": "code",
   "execution_count": 110,
   "id": "925965d8",
   "metadata": {
    "scrolled": false
   },
   "outputs": [],
   "source": [
    "# #Evaluate\n",
    "# # Get the accuracy of train set\n",
    "# train_accuracy = history.history['mean_squared_error'][-1] #Why -1?\n",
    "# print(f\"Train Accuracy: {train_accuracy:.4f}\")\n",
    "\n",
    "# # Evaluate with test set\n",
    "# result = model.evaluate(X_test, y_test, verbose = 0)\n",
    "# print(f\"Test Accuracy: {result[1]:.4f}\")"
   ]
  },
  {
   "cell_type": "code",
   "execution_count": 111,
   "id": "1fd329f0",
   "metadata": {},
   "outputs": [],
   "source": [
    "# # Visualize the training, epoch vs loss\n",
    "# plt.figure()\n",
    "# plt.plot(history.history['loss'], marker = '.')\n",
    "# plt.xlabel('Epoch of training')\n",
    "# plt.ylabel('loss')\n",
    "# plt.title('Loss for Model Training')\n",
    "# plt.show()"
   ]
  },
  {
   "cell_type": "code",
   "execution_count": 112,
   "id": "551735b4",
   "metadata": {},
   "outputs": [],
   "source": [
    "# # Visualize the training, epoch vs accuracy\n",
    "# plt.figure()\n",
    "# plt.plot(history.history['accuracy'], marker = '.')\n",
    "# plt.xlabel('Epoch of training')\n",
    "# plt.ylabel('loss')\n",
    "# plt.title('Loss for Model Training')\n",
    "# plt.show()"
   ]
  },
  {
   "cell_type": "code",
   "execution_count": 113,
   "id": "af9783e6",
   "metadata": {},
   "outputs": [],
   "source": [
    "# #Compare actual values vs predicted on graph\n",
    "# def plot_predictions(test, predicted, title):\n",
    "#     plt.figure(figsize = (16,4))\n",
    "#     plt.plot(test, color = 'blue', label = 'Actual Energy Demand')\n",
    "#     plt.plot(predicted, alpha = 0.5, color = 'orange', label = 'Predicted Energy Demand')\n",
    "#     plt.title(title)\n",
    "#     plt.xlabel('Time')\n",
    "#     plt.ylabel('Normalized Energy Demand scale')\n",
    "#     plt.legend()\n",
    "#     plt.show()\n",
    "    \n",
    "# plot_predictions(y_test, rnn_predictions, \"Predictions made by simple RNN model\")"
   ]
  },
  {
   "cell_type": "markdown",
   "id": "4647fd1d",
   "metadata": {},
   "source": [
    "[KNN and SVM Reference](https://www.sciencedirect.com/science/article/pii/S266616592030034X)"
   ]
  },
  {
   "cell_type": "markdown",
   "id": "3f6842f9",
   "metadata": {},
   "source": [
    "---\n",
    "### KNN Model\n",
    "[KNN and SVM Reference](https://www.sciencedirect.com/science/article/pii/S266616592030034X)"
   ]
  },
  {
   "cell_type": "code",
   "execution_count": 119,
   "id": "c49dcd35",
   "metadata": {
    "scrolled": true
   },
   "outputs": [],
   "source": [
    "from sklearn.linear_model import LinearRegression\n",
    "from sklearn.neighbors import KNeighborsRegressor\n",
    "\n",
    "# ############\n",
    "# #Transform data by scaling - SUPER IMPORTANT for any distance based method\n",
    "# X = train.values\n",
    "# y = train.index\n",
    "\n",
    "# #Instantiate and fit\n",
    "# scaler = StandardScaler().fit(train) #\n",
    "\n",
    "# #Transform\n",
    "# train_scaled = scaler.transform(train) #\n",
    "# test_scaled = scaler.transform(test) #\n",
    "\n",
    "# ###########\n",
    "# #Model\n",
    "# #Instantiate Model\n",
    "# KNNmodel = KNeighborsRegressor(n_neighbors=50, weights='uniform')\n",
    "\n",
    "# #Fit model\n",
    "# KNNmodel.fit(X_train[:, [0,3]], y_train)\n",
    "\n",
    "# #Score\n",
    "# print(f\"R^2 score on training set: {KNNmodel.score(X_train[:, [0,3]], y_train):0.3f}\")\n",
    "# print(f\"R^2 score on test set: {KNNmodel.score(X_test[:, [0,3]], y_test):0.3f}\")"
   ]
  },
  {
   "cell_type": "markdown",
   "id": "f11e1071",
   "metadata": {},
   "source": [
    "A drawback of KNN is that it can never predict values outside the range it's seen before. Since the training set includes some extreme energy demand fluctuations, we should likely be ok as most future values will be accounted for. "
   ]
  },
  {
   "cell_type": "markdown",
   "id": "afe2eaca",
   "metadata": {},
   "source": [
    "---\n",
    "### Notes"
   ]
  },
  {
   "cell_type": "code",
   "execution_count": 109,
   "id": "20bac444",
   "metadata": {},
   "outputs": [],
   "source": [
    "#NOTE: This is from reference2 \n",
    "# function for generating the lagged matrix\n",
    "def split_sequence(sequence, window_size):\n",
    "    X = []\n",
    "    y = []\n",
    "    # for all indexes\n",
    "    for i in range(len(sequence)):\n",
    "        end_idx = i + window_size\n",
    "        # exit condition\n",
    "        if end_idx > len(sequence) - 1:\n",
    "            break\n",
    "        # get X and Y values\n",
    "        seq_x, seq_y = sequence[i:end_idx], sequence[end_idx]\n",
    "        X.append(seq_x)\n",
    "        y.append(seq_y)\n",
    "    return np.array(X), np.array(y)"
   ]
  },
  {
   "cell_type": "markdown",
   "id": "7b664741",
   "metadata": {},
   "source": [
    "## Library\n",
    "Everything below here is a graveyard of code. "
   ]
  },
  {
   "cell_type": "markdown",
   "id": "94203ddc",
   "metadata": {},
   "source": [
    "---\n",
    "### Trying to use Regression Example from Intro to NN Lesson:"
   ]
  },
  {
   "cell_type": "code",
   "execution_count": 1,
   "id": "72b469b7",
   "metadata": {},
   "outputs": [],
   "source": [
    "# #Instantiate and fit\n",
    "# scaler = StandardScaler().fit(train) #\n",
    "\n",
    "# #Transform\n",
    "# train_scaled = scaler.transform(train) #\n",
    "# test_scaled = scaler.transform(test) #"
   ]
  },
  {
   "cell_type": "code",
   "execution_count": null,
   "id": "c8137e67",
   "metadata": {},
   "outputs": [],
   "source": [
    "# # Create a new sequential model\n",
    "# model = keras.Sequential()\n",
    "\n",
    "# # Declare the hidden layers\n",
    "# model.add(layers.Dense(40, activation=\"relu\"))\n",
    "# model.add(layers.Dense(40, activation=\"relu\"))\n",
    "\n",
    "# # Declare the output layer\n",
    "# model.add(layers.Dense(1)) # For regression, we don't specify any activation function.\n",
    "\n",
    "# # Compile the model\n",
    "# model.compile(optimizer = 'Adam', loss = keras.losses.MeanSquaredError())\n",
    "    \n",
    "# history = model.fit(X_train, y_train, epochs = 50, verbose = 0\n",
    "                    \n",
    "# from sklearn.metrics import r2_score\n",
    "# r2_score(y_test,y_pred)"
   ]
  },
  {
   "cell_type": "markdown",
   "id": "c947569b",
   "metadata": {},
   "source": [
    "---\n",
    "### Trying to use example from RNN Lesson:"
   ]
  },
  {
   "cell_type": "code",
   "execution_count": 16,
   "id": "b2044fff",
   "metadata": {},
   "outputs": [],
   "source": [
    "# # Evaluate the model using the test data and generate predictions\n",
    "# train_loss = history.history[\"loss\"][-1]\n",
    "# result = model.evaluate(X_test, y_test, verbose=0)\n",
    "# print(f\"Train Loss: {train_loss:.4f}\")\n",
    "# print(f\"Test Loss: {result:.4f}\")\n",
    "# y_pred = model.predict(X_test)"
   ]
  },
  {
   "cell_type": "code",
   "execution_count": 17,
   "id": "840003ac",
   "metadata": {},
   "outputs": [],
   "source": [
    "# RNN = Sequential() #Change, sequential only uses 1 input\n",
    "\n",
    "# RNN.add(Embedding(number_of_classes, 8))\n",
    "\n",
    "# RNN.add(LSTM(128, activation ='linear', return_sequences = False))\n",
    "# RNN.add(BatchNormalization())\n",
    "\n",
    "# RNN.add(Dense(64, activation ='linear'))\n",
    "# RNN.add(BatchNormalization())\n",
    "\n",
    "# RNN.add(Dense(number_of_classes, activation = 'linear'))"
   ]
  },
  {
   "cell_type": "code",
   "execution_count": 18,
   "id": "38b3d37d",
   "metadata": {},
   "outputs": [],
   "source": [
    "# # Compile model\n",
    "# RNN.compile(loss = 'mean squared error',\n",
    "#                       optimizer = Adam(lr = 0.001),\n",
    "#                       metrics = ['accuracy'])"
   ]
  },
  {
   "cell_type": "code",
   "execution_count": 19,
   "id": "78206edc",
   "metadata": {},
   "outputs": [],
   "source": [
    "# #Check r2 score for predicted values\n",
    "# lstm_predictions = lstm_model.predict(X_test)\n",
    "\n",
    "# lstm_score = r2_score(y_test, lstm_predictions)\n",
    "# print(\"R^2 Score of LSTM model = \", lstm_score)"
   ]
  },
  {
   "cell_type": "code",
   "execution_count": 20,
   "id": "533af802",
   "metadata": {},
   "outputs": [],
   "source": [
    "# #Compare actual values vs predicted on graph\n",
    "# plot_predictions(y_test, lstm_predictions, \"Predictions made by LSTM model\")"
   ]
  },
  {
   "cell_type": "code",
   "execution_count": 109,
   "id": "9c4418de",
   "metadata": {
    "scrolled": false
   },
   "outputs": [],
   "source": [
    "###############################################################################\n",
    "#Uncomment this out if you want to scale AFTER splitting for train and test sets\n",
    "###############################################################################\n",
    "\n",
    "#Prepare data for applying scaler\n",
    "#Need to reshape y_train and y_test\n",
    "# y_train = y_train.reshape(84152,1)\n",
    "# y_test = y_test.reshape(21027,1)\n",
    "\n",
    "# #Apply scaler to normalize data\n",
    "# from sklearn.preprocessing import MinMaxScaler\n",
    "\n",
    "# #Instantiate and fit scaler\n",
    "# scaler = MinMaxScaler().fit(X_train)\n",
    "\n",
    "# #Transform train and test data\n",
    "# X_train = scaler.transform(X_train)\n",
    "# y_train = scaler.transform(y_train)\n",
    "# X_test = scaler.transform(X_test)\n",
    "# y_test = scaler.transform(y_test)"
   ]
  },
  {
   "cell_type": "code",
   "execution_count": 30,
   "id": "e50b7fca",
   "metadata": {},
   "outputs": [],
   "source": [
    "# #Try to do the above plot but in plotly:\n",
    "# def plot_predictions_plotly(test, predicted, title):\n",
    "#     fig = go.Figure()\n",
    "#     fig.add_trace(go.Scatter(test, mode = 'lines', name = \"Actual\"))\n",
    "#     fig.add_trace(go.Scatter(predictions, mode = 'lines', name = \"Predictions\"))\n",
    "#     fig.update_xaxes(rangeslider_visible = True)\n",
    "#     fig.show()\n",
    "\n",
    "# plot_predictions_plotly(y_test, rnn_predictions, \"Predictions made by simple RNN model\")"
   ]
  }
 ],
 "metadata": {
  "kernelspec": {
   "display_name": "deeplearning",
   "language": "python",
   "name": "deeplearning"
  },
  "language_info": {
   "codemirror_mode": {
    "name": "ipython",
    "version": 3
   },
   "file_extension": ".py",
   "mimetype": "text/x-python",
   "name": "python",
   "nbconvert_exporter": "python",
   "pygments_lexer": "ipython3",
   "version": "3.8.11"
  }
 },
 "nbformat": 4,
 "nbformat_minor": 5
}
